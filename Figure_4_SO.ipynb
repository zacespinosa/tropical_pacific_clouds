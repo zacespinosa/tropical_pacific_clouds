{
 "cells": [
  {
   "cell_type": "markdown",
   "metadata": {},
   "source": [
    "# Southern Ocean Composites"
   ]
  },
  {
   "cell_type": "code",
   "execution_count": 1,
   "metadata": {},
   "outputs": [],
   "source": [
    "import xarray as xr\n",
    "import numpy as np\n",
    "import xcdat as xc\n",
    "import xskillscore as xscore\n",
    "import cartopy.crs as ccrs\n",
    "import cartopy\n",
    "import matplotlib.pyplot as plt\n",
    "import cmcrameri.cm as cmc\n",
    "# import cmocean as cmo\n",
    "from scipy.stats import linregress\n",
    "import pandas as pd\n",
    "import seaborn as sns\n",
    "import matplotlib as mpl\n",
    "from typing import Tuple, List\n",
    "\n",
    "from matplotlib.gridspec import GridSpec"
   ]
  },
  {
   "cell_type": "markdown",
   "metadata": {},
   "source": [
    "## Utils"
   ]
  },
  {
   "cell_type": "code",
   "execution_count": 1,
   "metadata": {},
   "outputs": [],
   "source": [
    "def get_triangle(tos, latmin: float = -38.75, latmax: float = -1.25, lonmin: float = -178.75, lonmax: float = -71.25, RES: float = 2.5):\n",
    "    DY = latmax - latmin\n",
    "    DX = lonmax - lonmin \n",
    "    dx = RES*round(DX/DY)\n",
    "    dy = RES\n",
    "\n",
    "    # print(f\"For each latitude step of {dy} degrees, longitude step is {dx}\")\n",
    "\n",
    "    latcoords = np.arange(latmax, latmin-dy, -dy)\n",
    "    loncoords = np.arange(lonmin, lonmax+dx, dx)\n",
    "    lonraw = np.arange(lonmin, lonmax+dx, RES)\n",
    "\n",
    "    ctos = tos.sel(lon=slice(lonmin, lonmax), lat=slice(latmin, latmax))\n",
    "    nmodel, _, nlon, ntime = ctos.shape\n",
    "    # print(ctos)\n",
    "\n",
    "    for i, clon in enumerate(lonraw):\n",
    "        j = np.where(clon == loncoords)[0]\n",
    "\n",
    "        if i == nlon: break\n",
    "\n",
    "        # print(\"j prior: \", j)\n",
    "        if len(j) == 0: \n",
    "            j = jold\n",
    "        else: \n",
    "            j = j[0]\n",
    "             \n",
    "        # print(\"j: \", j)\n",
    "        nlats = int(len(latcoords) - j) # nlats below diag\n",
    "        # print(\"nlats: \", nlats)\n",
    "        ctos[:,:nlats,i,:] = np.full((nmodel, nlats,ntime), np.nan) \n",
    "        \n",
    "        jold = j\n",
    "    \n",
    "    return ctos"
   ]
  },
  {
   "cell_type": "markdown",
   "metadata": {},
   "source": [
    "## Prep Data"
   ]
  },
  {
   "cell_type": "code",
   "execution_count": null,
   "metadata": {},
   "outputs": [],
   "source": [
    "def fix_coords(data):\n",
    "    data = data.bounds.add_bounds(\"X\")\n",
    "    data = data.bounds.add_bounds(\"Y\")\n",
    "    data = data.bounds.add_bounds(\"T\")\n",
    "    data = xc.swap_lon_axis(data, to=(-180, 180))\n",
    "    return data\n",
    "\n",
    "SEB_CMIP6 = xr.open_dataset(\"data/piControl/SEB_CMIP6_full.nc\")*3\n",
    "SEB_CMIP5 = xr.open_dataset(\"data/piControl/SEB_CMIP5_full.nc\")*3\n",
    "SEB_CMIP6[\"NON_CLOUD\"] = SEB_CMIP6[\"SW_Other\"] - SEB_CMIP6[\"LW_Other\"]\n",
    "SEB_CMIP5[\"NON_CLOUD\"] = SEB_CMIP5[\"SW_Other\"] - SEB_CMIP5[\"LW_Other\"]\n",
    "shared_models_cmip6 = SEB_CMIP6.model.values\n",
    "shared_models_cmip5 = SEB_CMIP5.model.values\n",
    "print(SEB_CMIP6)\n",
    "\n",
    "ERA = \"CMIP6\"\n",
    "U10_CMIP6 = xr.open_dataarray(f\"data/piControl/rolling_gradient_U10_{ERA}.nc\")*3\n",
    "V10_CMIP6 = xr.open_dataarray(f\"data/piControl/rolling_gradient_V10_{ERA}.nc\")*3\n",
    " \n",
    "U10_CMIP6 = fix_coords(U10_CMIP6.rename(\"U10\").to_dataset())\n",
    "V10_CMIP6 = fix_coords(V10_CMIP6.rename(\"V10\").to_dataset())\n",
    "print(V10_CMIP6)\n",
    "\n",
    "# Load Rolling Gradient for Regions TOS CMIP6\n",
    "SST_T_EPSA_CMIP6 = xr.open_dataarray(\"data/piControl/rolling_gradient_cmip6_eastPacificSA_trend.nc\").sel(model=shared_models_cmip6)\n",
    "SST_T_WE_CMIP6 = xr.open_dataarray(\"data/piControl/rolling_gradient_cmip6_WE-Trend.nc\").sel(model=shared_models_cmip6)\n",
    "SST_T_E_CMIP6 = xr.open_dataarray(\"data/piControl/rolling_gradient_cmip6_eastPacific_trend.nc\").sel(model=shared_models_cmip6)\n",
    "SST_T_SO_CMIP6 = xr.open_dataarray(\"data/piControl/rolling_gradient_cmip6_southernOcean_trend.nc\").sel(model=shared_models_cmip6)\n",
    "SST_T_EPT_CMIP6 = xr.open_dataarray(\"data/piControl/rolling_gradient_cmip6_eastPacificTriangle_trend.nc\").sel(model=shared_models_cmip6)\n",
    "\n",
    "# Load Rolling Gradient for Regions TOS CMIP5\n",
    "SST_T_EPSA_CMIP5 = xr.open_dataarray(\"data/piControl/rolling_gradient_cmip5_eastPacificSA_trend.nc\").sel(model=shared_models_cmip5)\n",
    "SST_T_WE_CMIP5 = xr.open_dataarray(\"data/piControl/rolling_gradient_cmip5_WE-Trend.nc\").sel(model=shared_models_cmip5)\n",
    "SST_T_E_CMIP5 = xr.open_dataarray(\"data/piControl/rolling_gradient_cmip5_eastPacific_trend.nc\").sel(model=shared_models_cmip5)\n",
    "SST_T_SO_CMIP5 = xr.open_dataarray(\"data/piControl/rolling_gradient_cmip5_southernOcean_trend.nc\").sel(model=shared_models_cmip5)\n",
    "SST_T_EPT_CMIP5 = xr.open_dataarray(\"data/piControl/rolling_gradient_cmip5_eastPacificTriangle_trend.nc\").sel(model=shared_models_cmip5)\n",
    "\n",
    "def get_shared_models(ds1: xr.Dataset, ds2: xr.Dataset) -> Tuple[xr.Dataset, xr.Dataset]:\n",
    "    shared_models = list(set(ds1.model.values).intersection(set(ds2.model.values)))\n",
    "    return ds1.sel(model=shared_models), ds2.sel(model=shared_models)\n",
    "    \n",
    "SWCF_CMIP6 = xr.open_dataarray(\"data/piControl/swcf_east_sa_cmip6_v3.nc\")\n",
    "SWCF_CMIP5 = xr.open_dataarray(\"data/piControl/swcf_east_sa_cmip5_v3.nc\")\n",
    "\n",
    "SWCF_CMIP6, SEB_CMIP6 = get_shared_models(SWCF_CMIP6, SEB_CMIP6)\n",
    "SWCF_CMIP5, SEB_CMIP5 = get_shared_models(SWCF_CMIP5, SEB_CMIP5)\n",
    "SEB_CMIP6, SST_T_EPT_CMIP6 = get_shared_models(SEB_CMIP6, SST_T_EPT_CMIP6)\n",
    "SEB_CMIP5, SST_T_EPT_CMIP5 = get_shared_models(SEB_CMIP5, SST_T_EPT_CMIP5)\n",
    "\n",
    "U10_CMIP6, SEB_CMIP6 = get_shared_models(U10_CMIP6, SEB_CMIP6)\n",
    "V10_CMIP6, SEB_CMIP6 = get_shared_models(V10_CMIP6, SEB_CMIP6)\n",
    "\n",
    "SWCF_CMIP6, SEB_CMIP6 = get_shared_models(SWCF_CMIP6, SEB_CMIP6)\n",
    "SWCF_CMIP5, SEB_CMIP5 = get_shared_models(SWCF_CMIP5, SEB_CMIP5)"
   ]
  },
  {
   "cell_type": "code",
   "execution_count": null,
   "metadata": {},
   "outputs": [],
   "source": [
    "SEB_CMIP6_SO = SEB_CMIP6.sel(lon=slice(-180, -75), lat=slice(-70, -50)).spatial.average(\"NET\")[\"NET\"]\n",
    "SO_Thres =  SEB_CMIP6_SO.mean(\"time\") - SEB_CMIP6_SO.std(\"time\")\n",
    "SEB_SO_1sig = SEB_CMIP6.where(SEB_CMIP6_SO <= SO_Thres).mean([\"time\", \"model\"])\n",
    "U10_SO_1sig = U10_CMIP6.where(SEB_CMIP6_SO <= SO_Thres).mean([\"time\", \"model\"])\n",
    "V10_SO_1sig = V10_CMIP6.where(SEB_CMIP6_SO <= SO_Thres).mean([\"time\", \"model\"])"
   ]
  }
 ],
 "metadata": {
  "kernelspec": {
   "display_name": "Python 3",
   "language": "python",
   "name": "python3"
  },
  "language_info": {
   "codemirror_mode": {
    "name": "ipython",
    "version": 3
   },
   "file_extension": ".py",
   "mimetype": "text/x-python",
   "name": "python",
   "nbconvert_exporter": "python",
   "pygments_lexer": "ipython3",
   "version": "3.11.0"
  }
 },
 "nbformat": 4,
 "nbformat_minor": 2
}
