{
 "cells": [
  {
   "cell_type": "code",
   "execution_count": 3,
   "metadata": {},
   "outputs": [],
   "source": [
    "import xarray as xr\n",
    "import numpy as np\n",
    "import csv"
   ]
  },
  {
   "cell_type": "code",
   "execution_count": 43,
   "metadata": {},
   "outputs": [],
   "source": [
    "# Load STD of 30-year trends in EPT\n",
    "sst_cmip6_ept = xr.open_dataarray('data/piControl/rolling_gradient_cmip6_eastPacificTriangle_trend.nc').std(\"time\").round(2).rename(\"SST_STD\").to_dataset()\n",
    "sst_cmip5_ept = xr.open_dataarray('data/piControl/rolling_gradient_cmip5_eastPacificTriangle_trend.nc').std(\"time\").round(2).rename(\"SST_STD\").to_dataset()\n",
    "# Load SWCF in EPSA \n",
    "swcf_cmip6_epsa = xr.open_dataarray('data/piControl/swcf_east_sa_cmip6_v3.nc').rename(\"SWCF\").round(2).to_dataset()\n",
    "swcf_cmip5_epsa = xr.open_dataarray('data/piControl/swcf_east_sa_cmip5_v3.nc').rename(\"SWCF\").round(2).to_dataset()\n",
    "# Load Coupling\n",
    "so_epsa_coupling_cmip6 = xr.open_dataarray(\"data/piControl/so_epsa_coupling_cmip6.nc\").rename(\"Coupling\").round(2).to_dataset()\n",
    "so_epsa_coupling_cmip5 = xr.open_dataarray(\"data/piControl/so_epsa_coupling_cmip5.nc\").rename(\"Coupling\").round(2).to_dataset()"
   ]
  },
  {
   "cell_type": "code",
   "execution_count": 44,
   "metadata": {},
   "outputs": [],
   "source": [
    "ds_cmip6 = xr.merge([swcf_cmip6_epsa, sst_cmip6_ept, so_epsa_coupling_cmip6])\n",
    "ds_cmip6[\"ERA\"] =([\"model\"], [\"CMIP6\"]*len(ds_cmip6.model))\n",
    "ds_cmip5 = xr.merge([swcf_cmip5_epsa, sst_cmip5_ept, so_epsa_coupling_cmip5])\n",
    "ds_cmip5[\"ERA\"] =([\"model\"], [\"CMIP5\"]*len(ds_cmip5.model))\n",
    "ds = xr.concat([ds_cmip6, ds_cmip5], dim=\"model\")\n",
    "ds = ds[[\"ERA\", \"SWCF\", \"SST_STD\", \"Coupling\"]]\n",
    "ds = ds.sortby(\"SWCF\", ascending=False).to_dataframe()\n",
    "ds.to_csv(\"table_1.csv\")"
   ]
  },
  {
   "cell_type": "code",
   "execution_count": 37,
   "metadata": {},
   "outputs": [
    {
     "name": "stdout",
     "output_type": "stream",
     "text": [
      "<xarray.DataArray 'model' (model: 41)>\n",
      "array(['NorESM2-MM', 'CESM2', 'IPSL-CM6A-LR', 'MPI-ESM1-2-LR', 'MPI-ESM1-2-HR',\n",
      "       'HadGEM3-GC31-LL', 'INM-CM4-8', 'MPI-ESM-1-2-HAM', 'E3SM-1-0',\n",
      "       'SAM0-UNICON', 'EC-Earth3-LR', 'MRI-ESM2-0', 'FGOALS-g3',\n",
      "       'CESM2-WACCM-FV2', 'KIOST-ESM', 'CESM2-WACCM', 'CIESM', 'CMCC-ESM2',\n",
      "       'GISS-E2-2-G', 'GISS-E2-1-H', 'INM-CM5-0', 'GISS-E2-2-H', 'GFDL-ESM4',\n",
      "       'CESM2-FV2', 'EC-Earth3-Veg', 'GFDL-CM4', 'GISS-E2-1-G', 'EC-Earth3-CC',\n",
      "       'EC-Earth3-AerChem', 'CAS-ESM2-0', 'MIROC6', 'EC-Earth3-Veg-LR',\n",
      "       'E3SM-1-1', 'BCC-CSM2-MR', 'FGOALS-f3-L', 'IITM-ESM', 'EC-Earth3',\n",
      "       'NorESM1-F', 'E3SM-2-0', 'CMCC-CM2-SR5', 'HadGEM3-GC31-MM'],\n",
      "      dtype=object)\n",
      "Coordinates:\n",
      "  * model    (model) object 'NorESM2-MM' 'CESM2' ... 'HadGEM3-GC31-MM'\n",
      "<xarray.DataArray 'model' (model: 28)>\n",
      "array(['CESM1-BGC', 'ACCESS1-0', 'GFDL-CM3', 'CESM1-CAM5', 'MIROC-ESM-CHEM',\n",
      "       'GISS-E2-H', 'IPSL-CM5A-LR', 'NorESM1-M', 'HadGEM2-CC', 'ACCESS1-3',\n",
      "       'IPSL-CM5A-MR', 'MPI-ESM-LR', 'CCSM4', 'CNRM-CM5', 'bcc-csm1-1-m',\n",
      "       'GFDL-ESM2G', 'bcc-csm1-1', 'GISS-E2-H-CC', 'IPSL-CM5B-LR',\n",
      "       'CESM1-FASTCHEM', 'CESM1-WACCM', 'NorESM1-ME', 'MIROC-ESM',\n",
      "       'CSIRO-Mk3-6-0', 'GFDL-ESM2M', 'CNRM-CM5-2', 'GISS-E2-R-CC',\n",
      "       'MPI-ESM-MR'], dtype=object)\n",
      "Coordinates:\n",
      "  * model    (model) object 'CESM1-BGC' 'ACCESS1-0' ... 'MPI-ESM-MR'\n"
     ]
    }
   ],
   "source": [
    "swcf_cmip6_epsa = xr.open_dataarray('data/piControl/swcf_east_sa_cmip6.nc').rename(\"SWCF\").round(2).to_dataset()\n",
    "swcf_cmip5_epsa = xr.open_dataarray('data/piControl/swcf_east_sa_cmip5.nc').rename(\"SWCF\").round(2).to_dataset()\n",
    "print(swcf_cmip6_epsa.model)\n",
    "print(swcf_cmip5_epsa.model)"
   ]
  },
  {
   "cell_type": "code",
   "execution_count": null,
   "metadata": {},
   "outputs": [],
   "source": []
  }
 ],
 "metadata": {
  "kernelspec": {
   "display_name": "Python 3",
   "language": "python",
   "name": "python3"
  },
  "language_info": {
   "codemirror_mode": {
    "name": "ipython",
    "version": 3
   },
   "file_extension": ".py",
   "mimetype": "text/x-python",
   "name": "python",
   "nbconvert_exporter": "python",
   "pygments_lexer": "ipython3",
   "version": "3.11.0"
  }
 },
 "nbformat": 4,
 "nbformat_minor": 2
}
